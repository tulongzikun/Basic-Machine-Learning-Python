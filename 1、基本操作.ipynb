{
 "cells": [
  {
   "cell_type": "markdown",
   "metadata": {},
   "source": [
    "# tensorflow基础"
   ]
  },
  {
   "cell_type": "markdown",
   "metadata": {},
   "source": [
    "TensorFlow主要依赖包\n",
    "ProtocolBuffer（结构化信息工具）\n",
    "Bazel自动化构建工具"
   ]
  },
  {
   "cell_type": "code",
   "execution_count": 1,
   "metadata": {},
   "outputs": [],
   "source": [
    "import tensorflow as tf"
   ]
  },
  {
   "cell_type": "markdown",
   "metadata": {},
   "source": [
    "除了使用默认的计算图外，还可以生成新的计算图，张量和运算不会共享"
   ]
  },
  {
   "cell_type": "code",
   "execution_count": 11,
   "metadata": {},
   "outputs": [
    {
     "name": "stdout",
     "output_type": "stream",
     "text": [
      "[0.]\n"
     ]
    }
   ],
   "source": [
    "g1 = tf.Graph()\n",
    "with g1.as_default():\n",
    "#    v = tf.get_variable(\"v\", initializer=tf.zeros_initializer(shape=[1]))\n",
    "#新版上述写法会报错\n",
    "    v = tf.get_variable(\"v\", shape=[1], initializer=tf.zeros_initializer())\n",
    "\n",
    "with tf.Session(graph = g1) as sess:\n",
    "#    tf.initialize_all_variables().run()\n",
    "#新版上述写法会被移除\n",
    "    tf.global_variables_initializer().run()\n",
    "    with tf.variable_scope(\"\", reuse = True):\n",
    "        print(sess.run(tf.get_variable(\"v\")))"
   ]
  },
  {
   "cell_type": "markdown",
   "metadata": {},
   "source": [
    "还可以指定计算图运行的设备"
   ]
  },
  {
   "cell_type": "code",
   "execution_count": null,
   "metadata": {},
   "outputs": [],
   "source": [
    "g = tf.Graph()\n",
    "with g.device(\"/gpu:0\"):\n",
    "    result = a + b\n",
    "##没有GPU就不运行了"
   ]
  },
  {
   "cell_type": "markdown",
   "metadata": {},
   "source": [
    "tensorflow计算结果是一个张量"
   ]
  },
  {
   "cell_type": "markdown",
   "metadata": {},
   "source": [
    "tensorflow支持14种变量类型，包括tf.float32/tf.float64/tf.int8/tf.in16/tf.int32/tf.bool/tf.complex64（复数）等等"
   ]
  },
  {
   "cell_type": "markdown",
   "metadata": {},
   "source": [
    "# tensorflow两种运行模型"
   ]
  },
  {
   "cell_type": "code",
   "execution_count": null,
   "metadata": {},
   "outputs": [],
   "source": [
    "sess = tf.Session()\n",
    "sess.run(...)\n",
    "sess.close()"
   ]
  },
  {
   "cell_type": "code",
   "execution_count": null,
   "metadata": {},
   "outputs": [],
   "source": [
    "with tf.Session() as sess:\n",
    "    sess.run(...)"
   ]
  },
  {
   "cell_type": "markdown",
   "metadata": {},
   "source": [
    "以下命令效果相同"
   ]
  },
  {
   "cell_type": "code",
   "execution_count": null,
   "metadata": {},
   "outputs": [],
   "source": [
    "sess.run(result)\n",
    "#=\n",
    "result.eval(session=sess)"
   ]
  },
  {
   "cell_type": "markdown",
   "metadata": {},
   "source": [
    "交互式环境"
   ]
  },
  {
   "cell_type": "code",
   "execution_count": null,
   "metadata": {},
   "outputs": [],
   "source": [
    "sess = tf.InteractiveSession()\n",
    "result.eval()\n",
    "sess.close()"
   ]
  },
  {
   "cell_type": "markdown",
   "metadata": {},
   "source": [
    "配置对话需要用configproto protocol buffer"
   ]
  },
  {
   "cell_type": "code",
   "execution_count": 12,
   "metadata": {},
   "outputs": [],
   "source": [
    "config = tf.ConfigProto(allow_soft_placement = True,#是否可以在CPU上运行\n",
    "                       log_device_placement = True)#是否记录节点所在设备\n",
    "sess1 = tf.Session(config = config)\n",
    "sess2 = tf.InteractiveSession(config = config)"
   ]
  },
  {
   "cell_type": "markdown",
   "metadata": {},
   "source": [
    "# tensorflow变量"
   ]
  },
  {
   "cell_type": "code",
   "execution_count": 15,
   "metadata": {},
   "outputs": [],
   "source": [
    "weights = tf.Variable(tf.random_normal([2,3],stddev=2))\n",
    "#初始化2*3矩阵随机变量"
   ]
  },
  {
   "cell_type": "markdown",
   "metadata": {},
   "source": [
    "几种随机数生成函数 \n",
    "\n",
    "tf.random_normal 正态分布\n",
    "\n",
    "tf.truncated_normal 两个标准差以内的正态分布\n",
    "\n",
    "tf.random_uniform 均匀分布\n",
    "\n",
    "tf.random_gamma 随机Gamma分布"
   ]
  },
  {
   "cell_type": "markdown",
   "metadata": {},
   "source": [
    "几种常数初始化\n",
    "\n",
    "tf.zeros\n",
    "\n",
    "tf.ones\n",
    "\n",
    "tf.fill 产生全为一个值的常量\n",
    "\n",
    "tf.constant 产生给定值常量"
   ]
  },
  {
   "cell_type": "code",
   "execution_count": 16,
   "metadata": {},
   "outputs": [],
   "source": [
    "#也可以通过其他变量的初始值来初始化新的变量\n",
    "w2 = tf.Variable(weights.initialized_value()*2)"
   ]
  },
  {
   "cell_type": "markdown",
   "metadata": {},
   "source": [
    "变量初始化的两种方法"
   ]
  },
  {
   "cell_type": "code",
   "execution_count": 17,
   "metadata": {},
   "outputs": [],
   "source": [
    "sess = tf.Session()\n",
    "sess.run(w2.initializer)\n",
    "#============================\n",
    "tf.global_variables_initializer().run()\n",
    "sess.close()"
   ]
  },
  {
   "cell_type": "markdown",
   "metadata": {},
   "source": [
    "将一个变量赋值给另一个变量\n",
    "\n",
    "要求类型一致，默认validate_shape=True要求长度一致"
   ]
  },
  {
   "cell_type": "code",
   "execution_count": null,
   "metadata": {},
   "outputs": [],
   "source": [
    "w1.assign(w2)\n",
    "#===========\n",
    "tf.assign(w1, w2, validate_shape=False)"
   ]
  },
  {
   "cell_type": "markdown",
   "metadata": {},
   "source": [
    "# TensorFlow参数训练"
   ]
  },
  {
   "cell_type": "markdown",
   "metadata": {},
   "source": [
    "Tensorflow的Placeholder"
   ]
  },
  {
   "cell_type": "code",
   "execution_count": 19,
   "metadata": {},
   "outputs": [],
   "source": [
    "x = tf.placeholder(tf.float32, shape=(3,2),name=\"input\")\n",
    "#sess.run(y, feed_dict{x:...})"
   ]
  },
  {
   "cell_type": "markdown",
   "metadata": {},
   "source": [
    "损失函数与反向传播算法"
   ]
  },
  {
   "cell_type": "code",
   "execution_count": null,
   "metadata": {},
   "outputs": [],
   "source": [
    "#损失函数 交叉熵 -\\sum p(x)log q(x)\n",
    "cross_entropy=-tf.reduce_mean(\n",
    "    y_*tf.log(tf.clip_by_value(y,1e-10,1.0)))\n",
    "#学习率\n",
    "learning_rate = 0.001\n",
    "#反向传播算法\n",
    "train_step = tf.train.AdamOptimizer(learning_rate).minimize(cross_entropy)"
   ]
  },
  {
   "cell_type": "markdown",
   "metadata": {},
   "source": [
    "三种优化方法 GradientDescentOptimizer AdamOptimizer MomentumOptimizer"
   ]
  },
  {
   "cell_type": "markdown",
   "metadata": {},
   "source": [
    "矩阵乘法matmul\n",
    "\n",
    "深层网络：去线性化relu"
   ]
  },
  {
   "cell_type": "code",
   "execution_count": null,
   "metadata": {},
   "outputs": [],
   "source": [
    "a = tf.nn.relu(tf.matmul(x, w1) + biases1)"
   ]
  },
  {
   "cell_type": "markdown",
   "metadata": {},
   "source": [
    "深层网络：损失函数softmax e^{x_i}/\\sum e^{x_j}"
   ]
  },
  {
   "cell_type": "code",
   "execution_count": null,
   "metadata": {},
   "outputs": [],
   "source": [
    "cross_entropy = tf.nn.sparse_softmax_cross_entropy_with_logits(y, y_)"
   ]
  },
  {
   "cell_type": "code",
   "execution_count": null,
   "metadata": {},
   "outputs": [],
   "source": [
    "#均方误差\n",
    "mse = tf.reduce_mean(tf.square(y_-y))"
   ]
  },
  {
   "cell_type": "markdown",
   "metadata": {},
   "source": [
    "两个tf函数\n",
    "\n",
    "tf.select \n",
    "\n",
    "tf.greater"
   ]
  },
  {
   "cell_type": "markdown",
   "metadata": {},
   "source": [
    "学习率随迭代逐步减小\n",
    "\n",
    "tf.train.exponential_decay"
   ]
  },
  {
   "cell_type": "code",
   "execution_count": 23,
   "metadata": {},
   "outputs": [],
   "source": [
    "global_step = tf.Variable(0)\n",
    "learning_rate = tf.train.exponential_decay(\n",
    "    0.1, global_step, 100, 0.96, staircase = True)\n",
    "#初始0.1，每100次乘以0.96"
   ]
  },
  {
   "cell_type": "markdown",
   "metadata": {},
   "source": [
    "防止过拟合：正则化参数(L2正则化）"
   ]
  },
  {
   "cell_type": "code",
   "execution_count": null,
   "metadata": {},
   "outputs": [],
   "source": [
    "lambda1 = 1\n",
    "tf.contrib.layers.l2_regularizer(lambda1)(w)"
   ]
  },
  {
   "cell_type": "markdown",
   "metadata": {},
   "source": [
    "使用集合的方法提高代码可读性"
   ]
  },
  {
   "cell_type": "code",
   "execution_count": null,
   "metadata": {},
   "outputs": [],
   "source": [
    "tf.add_to_collection(\"losses\",...)\n",
    "tf.add_to_collection(\"losses\",...)\n",
    "#然后获取总和\n",
    "tf.add_n(tf.get_collection(\"losses\"))"
   ]
  },
  {
   "cell_type": "markdown",
   "metadata": {},
   "source": [
    "更加稳健：滑动平均模型"
   ]
  },
  {
   "cell_type": "code",
   "execution_count": null,
   "metadata": {},
   "outputs": [],
   "source": [
    "step = tf.Variable(0, trainable=False)#训练轮数\n",
    "#定义一个滑动平均类\n",
    "ema = tf.train.ExponentialMovingAverage(0.99, step)\n",
    "#定义一个列表 每次更新列表中的变量\n",
    "maintain_averages_op = ema.apply([v1])\n",
    "#更新变量\n",
    "sess.run(maintain_averages_op)\n",
    "#计算滑动平均结果\n",
    "ema.average(v1)"
   ]
  },
  {
   "cell_type": "markdown",
   "metadata": {},
   "source": [
    "# TensorFlow 变量管理"
   ]
  },
  {
   "cell_type": "markdown",
   "metadata": {},
   "source": [
    "变量定义的两种方式"
   ]
  },
  {
   "cell_type": "code",
   "execution_count": 30,
   "metadata": {},
   "outputs": [],
   "source": [
    "v1 = tf.get_variable(\"v1\",shape=[1],\n",
    "                   initializer=tf.constant_initializer(1.0))\n",
    "#============\n",
    "v2 = tf.Variable(tf.constant(1.0, shape=[1]), name = \"v2\")"
   ]
  },
  {
   "cell_type": "markdown",
   "metadata": {},
   "source": [
    "七种初始化函数\n",
    "\n",
    "tf.constant_initializer\n",
    "\n",
    "tf.random_normal_initializer\n",
    "\n",
    "tf.truncated_normal_initializer\n",
    "\n",
    "tf.random_uniform_initializer\n",
    "\n",
    "tf.random_unif_scaling_initializer\n",
    "\n",
    "tf.zeros_initializer\n",
    "\n",
    "tf.ones_initializer"
   ]
  },
  {
   "cell_type": "markdown",
   "metadata": {},
   "source": [
    "同一个命名空间重复使用同一个名字会报错，解决方法在命名空间加入reuse=True"
   ]
  },
  {
   "cell_type": "code",
   "execution_count": 31,
   "metadata": {},
   "outputs": [],
   "source": [
    "with tf.variable_scope(\"foo\", reuse=True):\n",
    "    v=tf.get_variable(\"v\",[1])\n",
    "#实际变量名为“foo/v”"
   ]
  },
  {
   "cell_type": "markdown",
   "metadata": {},
   "source": [
    "# 模型的保存"
   ]
  },
  {
   "cell_type": "code",
   "execution_count": 1,
   "metadata": {},
   "outputs": [],
   "source": [
    "import tensorflow as tf\n",
    "v1 = tf.Variable(tf.constant(1,shape=[1]), name = \"v1\")\n",
    "v2 = tf.Variable(tf.constant(2,shape=[1]), name = \"v2\")\n",
    "result = v1+v2\n",
    "saver=tf.train.Saver()"
   ]
  },
  {
   "cell_type": "code",
   "execution_count": 2,
   "metadata": {},
   "outputs": [],
   "source": [
    "with tf.Session() as sess:\n",
    "    tf.global_variables_initializer().run()\n",
    "    saver.save(sess,\"model/model_example.ckpt\")"
   ]
  },
  {
   "cell_type": "markdown",
   "metadata": {},
   "source": [
    "save的参数global_step=1000文件名会命名为model.ckpt-1000"
   ]
  },
  {
   "cell_type": "markdown",
   "metadata": {},
   "source": [
    "会出现三个文件，.meta保存计算图结构，.ckpt保存变量取值，checkpoint文件保存目录下所有模型文件列表"
   ]
  },
  {
   "cell_type": "markdown",
   "metadata": {},
   "source": [
    "加载模型使用保存模型一样的方式声明变量"
   ]
  },
  {
   "cell_type": "code",
   "execution_count": 11,
   "metadata": {},
   "outputs": [
    {
     "name": "stdout",
     "output_type": "stream",
     "text": [
      "INFO:tensorflow:Restoring parameters from model/model_example.ckpt\n",
      "[3]\n"
     ]
    }
   ],
   "source": [
    "\n",
    "v1 = tf.Variable(tf.constant(1,shape=[1]), name = \"v1\")\n",
    "v2 = tf.Variable(tf.constant(2,shape=[1]), name = \"v2\")\n",
    "result = v1+v2\n",
    "#如果不加入下一行，在同一个文件运行会报错 \n",
    "#（因为变量名相同的变量不能重复定义）\n",
    "saver=tf.train.Saver({\"v1\":v1,\"v2\":v2})\n",
    "with tf.Session() as sess:\n",
    "    saver.restore(sess,\"model/model_example.ckpt\")\n",
    "    print (sess.run(result))"
   ]
  },
  {
   "cell_type": "markdown",
   "metadata": {},
   "source": [
    "第二种加载的方式 直接加载图"
   ]
  },
  {
   "cell_type": "code",
   "execution_count": 4,
   "metadata": {},
   "outputs": [
    {
     "name": "stdout",
     "output_type": "stream",
     "text": [
      "INFO:tensorflow:Restoring parameters from model/model_example.ckpt\n",
      "[3]\n"
     ]
    }
   ],
   "source": [
    "saver = tf.train.import_meta_graph(\"model/model_example.ckpt.meta\")\n",
    "with tf.Session() as sess:\n",
    "    saver.restore(sess,\"model/model_example.ckpt\")\n",
    "    print(sess.run(tf.get_default_graph().get_tensor_by_name(\"add:0\")))"
   ]
  },
  {
   "cell_type": "markdown",
   "metadata": {},
   "source": [
    "注意tf.train.Saver()默认加载了所有变量，如果tf.train.Saver([v1])只会加载v1\n",
    "\n",
    "可以通过定义重命名变量字典的方式加载模型，比如\n",
    "tf.train.Saver({\"v1\":v1}) \"V1\"指的是存储的图中变量，v1是新的变量\n",
    "\n",
    "在滑动平均类下提供variable_to_restore()的方法，相当于上述字典"
   ]
  },
  {
   "cell_type": "code",
   "execution_count": null,
   "metadata": {},
   "outputs": [],
   "source": [
    "#可以将变量保存为常量 \n",
    "from tensorflow.python.framework import graph_util\n",
    "with tf.Session() as sess:\n",
    "    tf.global_variables_initializer().run()\n",
    "    graph_def = tf.get_default_graph().as_graph_def()\n",
    "    output_graph_def=\n",
    "    graph_util.convert_variables_to_constants(sess, graph_def, [\"add\"])\n",
    "    with tf.gfile.GFile(\"model/model_example2.pb\",\"wb\") as f:\n",
    "        f.write(output_graph_def.SerializeToString())"
   ]
  },
  {
   "cell_type": "markdown",
   "metadata": {},
   "source": [
    "export_meta_graph函数导出图\n",
    "\n",
    "tf.train.NewCheckpointReader读取ckpt文件保存的所有变量\n",
    "\n",
    "tf.train.get_checkpoint_state通过checkpoint文件自动找到目录中最新模型"
   ]
  },
  {
   "cell_type": "markdown",
   "metadata": {},
   "source": [
    "# 多线程操作"
   ]
  },
  {
   "cell_type": "markdown",
   "metadata": {},
   "source": [
    "TensorFlow提供FIFOQueue和RandomShuffleQueue两种队列"
   ]
  },
  {
   "cell_type": "code",
   "execution_count": 12,
   "metadata": {},
   "outputs": [
    {
     "name": "stdout",
     "output_type": "stream",
     "text": [
      "0\n",
      "10\n",
      "1\n",
      "11\n",
      "2\n"
     ]
    }
   ],
   "source": [
    "q = tf.FIFOQueue(2, \"int32\")\n",
    "#初始化\n",
    "init = q.enqueue_many(([0, 10],))\n",
    "#取出第一个\n",
    "x = q.dequeue()\n",
    "y = x+1\n",
    "#加入队列\n",
    "q_inc = q.enqueue([y])\n",
    "with tf.Session() as sess:\n",
    "    init.run()\n",
    "    for _ in range(5):\n",
    "        v, _ = sess.run([x, q_inc])\n",
    "        print(v)"
   ]
  },
  {
   "cell_type": "markdown",
   "metadata": {},
   "source": [
    "tf.Coordinator和tf.QueueRunner完成多线程协同功能\n",
    "\n",
    "前者主要协同多个进程一起停止，后一个主要用于启动多线程操作同一个队列\n",
    "使用方法\n",
    "\n",
    "coord=tf.train.Coordinator()\n",
    "\n",
    "tf.train.start_queue_runners(sess=sess,coord=coord)"
   ]
  },
  {
   "cell_type": "code",
   "execution_count": null,
   "metadata": {},
   "outputs": [],
   "source": [
    "tf.train.shuffle_batch([example,label],batch_size=batch_size,\n",
    "                      capacity=capacity, min_after_dequeue=30)\n",
    "#capacity是队列最大容量 batch_size是batch样例个数"
   ]
  },
  {
   "cell_type": "markdown",
   "metadata": {},
   "source": [
    "处理不同文件中的样例，使用tf.tain.shuffle_batch_join"
   ]
  },
  {
   "cell_type": "code",
   "execution_count": null,
   "metadata": {},
   "outputs": [],
   "source": []
  }
 ],
 "metadata": {
  "kernelspec": {
   "display_name": "Python 3",
   "language": "python",
   "name": "python3"
  },
  "language_info": {
   "codemirror_mode": {
    "name": "ipython",
    "version": 3
   },
   "file_extension": ".py",
   "mimetype": "text/x-python",
   "name": "python",
   "nbconvert_exporter": "python",
   "pygments_lexer": "ipython3",
   "version": "3.6.7"
  }
 },
 "nbformat": 4,
 "nbformat_minor": 2
}
