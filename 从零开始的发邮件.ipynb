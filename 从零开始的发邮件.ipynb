{
 "cells": [
  {
   "cell_type": "markdown",
   "metadata": {},
   "source": [
    "## 需要开通SMTP服务"
   ]
  },
  {
   "cell_type": "code",
   "execution_count": 8,
   "metadata": {},
   "outputs": [
    {
     "data": {
      "text/plain": [
       "(221, b'Bye')"
      ]
     },
     "execution_count": 8,
     "metadata": {},
     "output_type": "execute_result"
    }
   ],
   "source": [
    "import smtplib    \n",
    "from email.mime.multipart import MIMEMultipart    \n",
    "from email.mime.text import MIMEText    \n",
    "from email.mime.image import MIMEImage \n",
    "from email.mime.application import MIMEApplication \n",
    "from email.header import Header   \n",
    "    \n",
    "#设置smtplib所需的参数\n",
    "smtpserver = 'smtp.126.com'\n",
    "username = 'tulongzikun004@126.com'\n",
    "password='tulong24'\n",
    "sender='tulongzikun004@126.com'\n",
    "receiver=\"tulongzikun005@126.com\" #多个收件人receiver=['XXX@126.com','XXX@126.com']\n",
    "\n",
    "subject = 'Email test'\n",
    "#通过Header对象编码的文本，包含utf-8编码信息和Base64编码信息。以下中文名测试ok\n",
    "#subject = '中文标题'\n",
    "#subject=Header(subject, 'utf-8').encode()\n",
    "    \n",
    "#构造邮件对象MIMEMultipart对象\n",
    "#下面的主题，发件人，收件人，日期是显示在邮件页面上的。\n",
    "msg = MIMEMultipart('mixed') \n",
    "msg['Subject'] = subject\n",
    "msg['From'] = \"tulong4<tulongzikun004@126.com>\"\n",
    "msg['To'] = receiver\n",
    "#收件人为多个收件人,通过join将列表转换为以;为间隔的字符串\n",
    "\n",
    "#构造文字内容   \n",
    "text = \"Hi!\\nHow are you?\\nHere is the link you wanted:\\nhttp://www.baidu.com\"    \n",
    "text_plain = MIMEText(text,'plain', 'utf-8')    \n",
    "msg.attach(text_plain)    \n",
    "\n",
    "'''\n",
    "#构造图片链接\n",
    "sendimagefile=open(r'D:\\pythontest\\testimage.png','rb').read()\n",
    "image = MIMEImage(sendimagefile)\n",
    "image.add_header('Content-ID','<image1>')\n",
    "image[\"Content-Disposition\"] = 'attachment; filename=\"testimage.png\"'\n",
    "msg.attach(image)\n",
    "'''\n",
    "\n",
    "\n",
    "#构造附件\n",
    "#文字附件用MIMEText，图片用MIMEImage，其他文件用MIMEApplication\n",
    "filename = ...\n",
    "file = MIMEApplication(open(filename, \"rb\").read())\n",
    "file.add_header('Content-Disposition', 'attachment', filename=filename)\n",
    "msg.attach(file)    \n",
    "\n",
    "       \n",
    "#发送邮件\n",
    "smtp = smtplib.SMTP()    \n",
    "smtp.connect(smtpserver)\n",
    "#我们用set_debuglevel(1)就可以打印出和SMTP服务器交互的所有信息。\n",
    "#smtp.set_debuglevel(1)  \n",
    "smtp.login(username, password)    \n",
    "smtp.sendmail(sender, receiver, msg.as_string())    \n",
    "smtp.quit()\n",
    "\n",
    "#221 Bye为退出信息"
   ]
  },
  {
   "cell_type": "code",
   "execution_count": null,
   "metadata": {},
   "outputs": [],
   "source": []
  }
 ],
 "metadata": {
  "kernelspec": {
   "display_name": "Python 3",
   "language": "python",
   "name": "python3"
  },
  "language_info": {
   "codemirror_mode": {
    "name": "ipython",
    "version": 3
   },
   "file_extension": ".py",
   "mimetype": "text/x-python",
   "name": "python",
   "nbconvert_exporter": "python",
   "pygments_lexer": "ipython3",
   "version": "3.6.7"
  }
 },
 "nbformat": 4,
 "nbformat_minor": 2
}
