{
 "cells": [
  {
   "cell_type": "code",
   "execution_count": 1,
   "metadata": {},
   "outputs": [],
   "source": [
    "import tensorflow as tf"
   ]
  },
  {
   "cell_type": "code",
   "execution_count": 2,
   "metadata": {},
   "outputs": [],
   "source": [
    "weights = tf.get_variable(\"weights\", [5, 5, 3, 16],\n",
    "                         initializer=tf.truncated_normal_initializer(stddev=0.1))\n",
    "biases = tf.get_variable(\"biases\", [16],\n",
    "                        initializer=tf.constant_initializer(0.1))"
   ]
  },
  {
   "cell_type": "markdown",
   "metadata": {},
   "source": [
    "卷积层"
   ]
  },
  {
   "cell_type": "code",
   "execution_count": 9,
   "metadata": {},
   "outputs": [],
   "source": [
    "input = tf.placeholder(tf.float32,[1000,28,28,3])\n",
    "#每个batch有1000个数据 28*28*3\n",
    "conv = tf.nn.conv2d(input, weights, strides=[1, 1, 1, 1], padding=\"SAME\")\n",
    "#步长参数第一维和最后一维一定是1\n",
    "bias = tf.nn.bias_add(conv, biases)\n",
    "actived_conv = tf.nn.relu(bias)\n",
    "#注意bias不能简单相加"
   ]
  },
  {
   "cell_type": "markdown",
   "metadata": {},
   "source": [
    "池化层"
   ]
  },
  {
   "cell_type": "code",
   "execution_count": 10,
   "metadata": {},
   "outputs": [],
   "source": [
    "pool=tf.nn.max_pool(actived_conv, ksize=[1,3,3,1],\n",
    "                   strides=[1,2,2,1],padding=\"SAME\")\n",
    "#ksize过滤器尺寸 strides步长 参数与conv2d类似第一维和最后一维一定是1"
   ]
  },
  {
   "cell_type": "markdown",
   "metadata": {},
   "source": [
    "dropout层（一般只有全连接层有dropout）"
   ]
  },
  {
   "cell_type": "code",
   "execution_count": 11,
   "metadata": {},
   "outputs": [],
   "source": [
    "train = True\n",
    "if train:\n",
    "    pool = tf.nn.dropout(pool, 0.5)"
   ]
  },
  {
   "cell_type": "markdown",
   "metadata": {},
   "source": [
    "# TFRecord"
   ]
  },
  {
   "cell_type": "markdown",
   "metadata": {},
   "source": [
    "TensorFlow提供统一的格式来存储数据（TFRecord）"
   ]
  },
  {
   "cell_type": "code",
   "execution_count": null,
   "metadata": {},
   "outputs": [],
   "source": [
    "#例子 如何转化为TFRecord格式\n",
    "#有很多WARNING\n",
    "import tensorflow as tf\n",
    "from tensorflow.examples.tutorials.mnist import input_data\n",
    "import numpy as np\n",
    "def _int64_feature(value):\n",
    "    return tf.train.Feature(int64_list=tf.train.Int64List(value=[value]))\n",
    "def _bytes_feature(value):\n",
    "    return tf.train.Feature(bytes_list=tf.train.BytesList(value=[value]))\n",
    "\n",
    "mnist = input_data.read_data_sets(\n",
    "\"/path/to/mnist/data\",dtype=tf.uint8,one_hot=True)\n",
    "images = mnist.train.images\n",
    "labels = mnist.train.labels\n",
    "pixels = images.shape[1]\n",
    "num_examples = mnist.train.num_examples\n",
    "\n",
    "#输出TFRecord文件地址\n",
    "filename = \"/path/to/output.tfrecords\"\n",
    "writer = tf.python_io.TFRecordWriter(filename)\n",
    "for index in range(num_examples):\n",
    "    image_raw = image[indes].tostring()\n",
    "    example = tf.train.Example(features = tf.train.Features(features={\n",
    "    \"pixels\":_int64_feature(pixels),\n",
    "    \"label\":_int64_feature(np.argmax(labels[index])),\n",
    "    \"image_raw\":_bytes_feature(image_raw)}))\n",
    "    \n",
    "    writer.write(example.SerializeToString())\n",
    "writer.close()\n"
   ]
  },
  {
   "cell_type": "code",
   "execution_count": null,
   "metadata": {},
   "outputs": [],
   "source": [
    "#例子 读取TFRecord文件\n",
    "reader = tf.TFRecordReader()\n",
    "filename_queue = tf.train.string_input_producer([\"/path/to/output.tfrecords\"])\n",
    "_, serialized_example = reader.read(filename_queue)\n",
    "features = tf.parse_single_example(\n",
    "serialized_example,\n",
    "features = {\n",
    "    \"image_raw\":tf.FixedLenFeature([], tf.string),\n",
    "    \"pixels\": tf.FixedLenFeature([], tf.int64),\n",
    "    \"label\":tf.FixedLenFeature([], tf.int64)\n",
    "})\n",
    "images = tf.decode_raw(features[\"image_raw\"],tf.uint8)\n",
    "labels = tf.cast(features[\"label\"],tf.int32)\n",
    "pixels = tf.cast(features[\"pixels\"],tf.int32)\n",
    "\n",
    "sess = tf.Session()\n",
    "coord = tf.train.Coordinator() #多线程处理\n",
    "threads = tf.train.start_queue_runners(sess=sess, coord=coord)\n",
    "\n",
    "for i in range(10):\n",
    "    image, label, pixel = sess.run([images,labels,pixels])"
   ]
  },
  {
   "cell_type": "markdown",
   "metadata": {},
   "source": [
    "# 图像处理"
   ]
  },
  {
   "cell_type": "code",
   "execution_count": null,
   "metadata": {},
   "outputs": [],
   "source": [
    "import matplotlib.pyplot as plt\n",
    "import tensorflow as tf\n",
    "#读取图片\n",
    "image_raw_data = tf.gfile.FastGFile(\"/path/to/picture\",\"r\").read()\n",
    "with tf.Session() as sess:\n",
    "    img_data = tf.image.decode_jpeg(image_raw_data)\n",
    "#展示图片 img_data为三维数组\n",
    "plt.imshow(img_data.eval())\n",
    "plt.show()\n",
    "#转化为实数\n",
    "img_data = tf.image.convert_image_dtype(img_data, dtype=tf.float32)\n",
    "#编码为jpeg\n",
    "encoded_image = tf.image.encode_jpeg(img_data)\n",
    "with tf.gfile.GFile(\"/path/to/output\",\"wb\") as f:\n",
    "    f.write(encoded_image.eval())"
   ]
  },
  {
   "cell_type": "markdown",
   "metadata": {},
   "source": [
    "图片大小调整"
   ]
  },
  {
   "cell_type": "code",
   "execution_count": null,
   "metadata": {},
   "outputs": [],
   "source": [
    "#method 0：双线性 1：最近邻 2：双三次 3：面积法\n",
    "tf.image.resize_images(img_data,300,300,method=0)\n",
    "#获取图像大小\n",
    "img_data.get_shape()"
   ]
  },
  {
   "cell_type": "markdown",
   "metadata": {},
   "source": [
    "图像裁剪或填充"
   ]
  },
  {
   "cell_type": "code",
   "execution_count": null,
   "metadata": {},
   "outputs": [],
   "source": [
    "tf.image.resize_image_with_crop_or_pad(img_data,1000,1000)"
   ]
  },
  {
   "cell_type": "markdown",
   "metadata": {},
   "source": [
    "比例调整"
   ]
  },
  {
   "cell_type": "code",
   "execution_count": null,
   "metadata": {},
   "outputs": [],
   "source": [
    "tf.image.central_crop(img_data,0.5)"
   ]
  },
  {
   "cell_type": "markdown",
   "metadata": {},
   "source": [
    "图像翻转"
   ]
  },
  {
   "cell_type": "code",
   "execution_count": null,
   "metadata": {},
   "outputs": [],
   "source": [
    "#上下翻转\n",
    "tf.image.flip_up_down(img_data)\n",
    "#左右翻转\n",
    "tf.image.filp_left_right(img_data)\n",
    "#对角线翻转\n",
    "tf.image.transpose_image(img_data)\n",
    "#一定概率翻转\n",
    "tf.image.random_flip_up_down(img_data)\n",
    "tf.image.random_flip_left_right(img_data)"
   ]
  },
  {
   "cell_type": "markdown",
   "metadata": {},
   "source": [
    "色彩调节"
   ]
  },
  {
   "cell_type": "code",
   "execution_count": null,
   "metadata": {},
   "outputs": [],
   "source": [
    "#调整亮度\n",
    "tf.image.adjust_brightness(img_data,-0.5)\n",
    "#在-max_delta和max_delta之间随机调整亮度\n",
    "tf.image.random_brightness(img_data, max_delta)\n",
    "#调整对比度\n",
    "tf.image.adjust_contrast(img_data, -5)\n",
    "#在low-up之间随机调整对比度\n",
    "tf.image.random_contrast(img_data, low, up)\n",
    "#调整色相\n",
    "tf.image.adjust_hue(img_data, 0.5)\n",
    "#max_delta取值0-0.5\n",
    "tf.image.random_hue(image, max_delta)\n",
    "#调整饱和度\n",
    "tf.image.adjust_saturation(img_data, -5)\n",
    "#在low-up之间随机调整饱和度\n",
    "tf.image.random_saturation(img_data, low, up)\n",
    "\n",
    "#净化\n",
    "#将图片数字均值变为0方差变为1\n",
    "tf.image.per_image_whitening(img_data)"
   ]
  },
  {
   "cell_type": "markdown",
   "metadata": {},
   "source": [
    "处理标注框"
   ]
  },
  {
   "cell_type": "code",
   "execution_count": null,
   "metadata": {},
   "outputs": [],
   "source": [
    "tf.image.draw_bounding_boxes(img, box)\n",
    "#box=[y_min,x_min,y_max,x_max]都是相对坐标"
   ]
  },
  {
   "cell_type": "markdown",
   "metadata": {},
   "source": [
    "截取图像"
   ]
  },
  {
   "cell_type": "code",
   "execution_count": null,
   "metadata": {},
   "outputs": [],
   "source": [
    "#在标注框内随机截取\n",
    "tf.image.sample_distorted_bounding_box(img_data,box)"
   ]
  },
  {
   "cell_type": "markdown",
   "metadata": {},
   "source": [
    "# 循环神经网络"
   ]
  },
  {
   "cell_type": "code",
   "execution_count": 3,
   "metadata": {},
   "outputs": [
    {
     "name": "stdout",
     "output_type": "stream",
     "text": [
      "before [0.6 0.5]\n",
      "state [0.53704957 0.46211716]\n",
      "output [1.56128388]\n",
      "before [1.2923401  1.39225678]\n",
      "state [0.85973818 0.88366641]\n",
      "output [2.72707101]\n"
     ]
    }
   ],
   "source": [
    "import numpy as np\n",
    "x = [1, 2]\n",
    "state = [0, 0]\n",
    "\n",
    "w_cell_state = np.array([[0.1,0.2],[0.3,0.4]])\n",
    "w_cell_input = np.array([0.5,0.6])\n",
    "b_cell = np.array([0.1, -0.1])\n",
    "\n",
    "#全连接层\n",
    "w_output = np.array([[1.0],[2.0]])\n",
    "b_output = 0.1\n",
    "\n",
    "for i in range(len(x)):\n",
    "    before = np.dot(state, w_cell_state)+x[i]*w_cell_input+b_cell\n",
    "    state = np.tanh(before)\n",
    "    \n",
    "    output = np.dot(state, w_output)+b_output\n",
    "    print(\"before\",before)\n",
    "    print(\"state\",state)\n",
    "    print(\"output\",output)"
   ]
  },
  {
   "cell_type": "markdown",
   "metadata": {},
   "source": [
    "LSTM\n",
    "\n",
    "通过tf.nn.rnn_cell.BasicLSTMCell实现"
   ]
  },
  {
   "cell_type": "code",
   "execution_count": null,
   "metadata": {},
   "outputs": [],
   "source": [
    "lstm_size = [2,3]\n",
    "#定义LSTM单元\n",
    "lstm = tf.nn.rnn_cell.LSTMCell(lstm_size) #原BasicLSTMCell\n",
    "#dropout\n",
    "dropout_lstm = tf.nn.rnn_cell.DropoutWrapper(lstm, output_keep_prob=0.5)\n",
    "#定义深层循环网络\n",
    "number_of_layers = 3\n",
    "stacked_lstm = tf.nn.rnn_cell.MultiRNNCell([dropout_lstm]*number_of_layers)"
   ]
  },
  {
   "cell_type": "markdown",
   "metadata": {},
   "source": [
    "实例：\n",
    "\n",
    "PTB数据集\n",
    "\n",
    "tf.models.nn.ptb.reader.ptb_iterator(train_data, 4, 5)"
   ]
  },
  {
   "cell_type": "markdown",
   "metadata": {},
   "source": [
    "# TFlearn\n",
    "\n",
    "高层封装TFlearn \n",
    "\n",
    "导入方法 tf.contrib.learn"
   ]
  },
  {
   "cell_type": "code",
   "execution_count": null,
   "metadata": {},
   "outputs": [],
   "source": [
    "#logistic回归为例\n",
    "logits, loss = tf.contrib.learn.models.logistic_regression(features, target)"
   ]
  }
 ],
 "metadata": {
  "kernelspec": {
   "display_name": "Python 3",
   "language": "python",
   "name": "python3"
  },
  "language_info": {
   "codemirror_mode": {
    "name": "ipython",
    "version": 3
   },
   "file_extension": ".py",
   "mimetype": "text/x-python",
   "name": "python",
   "nbconvert_exporter": "python",
   "pygments_lexer": "ipython3",
   "version": "3.6.7"
  }
 },
 "nbformat": 4,
 "nbformat_minor": 2
}
